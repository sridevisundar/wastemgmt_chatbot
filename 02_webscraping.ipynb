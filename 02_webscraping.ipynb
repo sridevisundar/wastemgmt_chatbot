{
 "cells": [
  {
   "cell_type": "code",
   "execution_count": 1,
   "metadata": {},
   "outputs": [
    {
     "name": "stdout",
     "output_type": "stream",
     "text": [
      "Collecting Wikipedia-API\n",
      "  Downloading wikipedia_api-0.8.1.tar.gz (19 kB)\n",
      "  Preparing metadata (setup.py) ... \u001b[?25ldone\n",
      "\u001b[?25hRequirement already satisfied: requests in /usr/local/lib/python3.12/dist-packages (from Wikipedia-API) (2.32.3)\n",
      "Requirement already satisfied: charset-normalizer<4,>=2 in /usr/local/lib/python3.12/dist-packages (from requests->Wikipedia-API) (3.4.1)\n",
      "Requirement already satisfied: idna<4,>=2.5 in /usr/local/lib/python3.12/dist-packages (from requests->Wikipedia-API) (3.10)\n",
      "Requirement already satisfied: urllib3<3,>=1.21.1 in /usr/local/lib/python3.12/dist-packages (from requests->Wikipedia-API) (2.0.7)\n",
      "Requirement already satisfied: certifi>=2017.4.17 in /usr/local/lib/python3.12/dist-packages (from requests->Wikipedia-API) (2024.12.14)\n",
      "Building wheels for collected packages: Wikipedia-API\n",
      "  Building wheel for Wikipedia-API (setup.py) ... \u001b[?25ldone\n",
      "\u001b[?25h  Created wheel for Wikipedia-API: filename=Wikipedia_API-0.8.1-py3-none-any.whl size=15382 sha256=2dae49664e0d5069edb702a172ee958a19cd83c8d0867ffc6961a68c86200262\n",
      "  Stored in directory: /root/.cache/pip/wheels/33/3c/79/b36253689d838af4a0539782853ac3cc38a83a6591ad570dde\n",
      "Successfully built Wikipedia-API\n",
      "Installing collected packages: Wikipedia-API\n",
      "Successfully installed Wikipedia-API-0.8.1\n",
      "\u001b[33mWARNING: Running pip as the 'root' user can result in broken permissions and conflicting behaviour with the system package manager, possibly rendering your system unusable.It is recommended to use a virtual environment instead: https://pip.pypa.io/warnings/venv. Use the --root-user-action option if you know what you are doing and want to suppress this warning.\u001b[0m\u001b[33m\n",
      "\u001b[0m"
     ]
    }
   ],
   "source": [
    "! pip install Wikipedia-API"
   ]
  },
  {
   "cell_type": "code",
   "execution_count": 2,
   "metadata": {},
   "outputs": [],
   "source": [
    "import wikipediaapi\n",
    "import json\n",
    "import time\n",
    "\n",
    "# Initialize Wikipedia API\n",
    "wiki_wiki = wikipediaapi.Wikipedia(user_agent=\"WasteManagement/1.0 (sridevisundar21@gmail.com)\", language=\"en\")\n"
   ]
  },
  {
   "cell_type": "code",
   "execution_count": 3,
   "metadata": {},
   "outputs": [],
   "source": [
    "topics = [\n",
    "    \"Waste management\",  \n",
    "    \"Recycling\",  \n",
    "    \"Landfill\",  \n",
    "    \"Composting\",  \n",
    "    \"Incineration\",  \n",
    "    \"Waste-to-energy\",  \n",
    "    \"Electronic waste\",  \n",
    "    \"Plastic pollution\",  \n",
    "    \"Ocean garbage patches\",  \n",
    "    \"Hazardous waste\",  \n",
    "    \"Medical waste\",  \n",
    "    \"Nuclear waste\",  \n",
    "    \"Construction waste\",  \n",
    "    \"Food waste\",  \n",
    "    \"Green waste\",  \n",
    "    \"Waste hierarchy\",  \n",
    "    \"Reduce, Reuse, Recycle\",  \n",
    "    \"Zero waste\",  \n",
    "    \"Extended producer responsibility\",  \n",
    "    \"Circular economy\",  \n",
    "    \"Industrial waste\",  \n",
    "    \"Agricultural waste\",  \n",
    "    \"Textile waste\",  \n",
    "    \"Battery recycling\",  \n",
    "    \"Scrap metal\",  \n",
    "    \"Glass recycling\",  \n",
    "    \"Paper recycling\",  \n",
    "    \"Plastic recycling\",  \n",
    "    \"Biodegradable waste\",  \n",
    "    \"Waste collection\",  \n",
    "    \"Illegal dumping\",  \n",
    "    \"Waste sorting\",  \n",
    "    \"Materials recovery facility\",  \n",
    "    \"Municipal solid waste\",  \n",
    "    \"Landfill gas\",  \n",
    "    \"Microplastics\",  \n",
    "    \"Waste legislation\",  \n",
    "    \"Waste reduction\",  \n",
    "    \"Eco-friendly packaging\",  \n",
    "    \"Recycling contamination\",  \n",
    "    \"Biohazard waste\",  \n",
    "    \"Garbage truck\",  \n",
    "    \"Waste disposal site\",  \n",
    "    \"Sanitary landfill\",  \n",
    "    \"Tipping fees\",  \n",
    "    \"Littering\",  \n",
    "    \"Upcycling\",  \n",
    "    \"Downcycling\",  \n",
    "    \"Single-use plastics\",  \n",
    "    \"Wastewater treatment\",  \n",
    "    \"Leachate\",  \n",
    "    \"Carbon footprint of waste\"  \n",
    "]\n"
   ]
  },
  {
   "cell_type": "code",
   "execution_count": 4,
   "metadata": {},
   "outputs": [],
   "source": [
    "# Combine topics and diseases\n",
    "all_pages = topics + plant_diseases\n",
    "\n",
    "# Text length limit to prevent shape errors (Adjust based on model's context window)\n",
    "#MAX_TOKENS = 512"
   ]
  },
  {
   "cell_type": "code",
   "execution_count": 5,
   "metadata": {},
   "outputs": [],
   "source": [
    "# Function to scrape Wikipedia pages\n",
    "def fetch_wikipedia_data(page_title):\n",
    "    page = wiki_wiki.page(page_title)\n",
    "\n",
    "    if not page.exists():\n",
    "        print(f\"⚠️ Page '{page_title}' not found! Skipping...\")\n",
    "        return None\n",
    "\n",
    "    # Extract structured data\n",
    "    data = {\n",
    "        \"title\": page.title,\n",
    "        \"summary\": page.summary,\n",
    "        \"full_text\": page.text,\n",
    "        \"links\": list(page.links.keys()),\n",
    "        \"categories\": list(page.categories.keys())\n",
    "    }\n",
    "\n",
    "    if not data[\"full_text\"].strip():\n",
    "        print(f\"⚠️ Skipping {page_title} (empty content)\")\n",
    "        return None\n",
    "\n",
    "    print(f\"✅ {page_title} - Summary: {len(data['summary'].split())} words | Full Text: {len(data['full_text'].split())} words\")\n",
    "\n",
    "    return data"
   ]
  },
  {
   "cell_type": "code",
   "execution_count": 6,
   "metadata": {},
   "outputs": [
    {
     "name": "stdout",
     "output_type": "stream",
     "text": [
      "✅ Waste management - Summary: 669 words | Full Text: 6346 words\n",
      "✅ Recycling - Summary: 350 words | Full Text: 9526 words\n",
      "✅ Landfill - Summary: 130 words | Full Text: 2461 words\n",
      "✅ Composting - Summary: 318 words | Full Text: 4229 words\n",
      "✅ Incineration - Summary: 516 words | Full Text: 7468 words\n",
      "✅ Waste-to-energy - Summary: 350 words | Full Text: 3236 words\n",
      "✅ Electronic waste - Summary: 167 words | Full Text: 11326 words\n",
      "✅ Plastic pollution - Summary: 578 words | Full Text: 12185 words\n",
      "⚠️ Page 'Ocean garbage patches' not found! Skipping...\n",
      "✅ Hazardous waste - Summary: 116 words | Full Text: 2291 words\n",
      "✅ Medical waste - Summary: 337 words | Full Text: 3729 words\n",
      "✅ Nuclear waste - Summary: 432 words | Full Text: 9233 words\n",
      "✅ Construction waste - Summary: 268 words | Full Text: 2325 words\n",
      "✅ Food waste - Summary: 359 words | Full Text: 8954 words\n",
      "✅ Green waste - Summary: 92 words | Full Text: 856 words\n",
      "✅ Waste hierarchy - Summary: 174 words | Full Text: 1433 words\n",
      "✅ Reduce, Reuse, Recycle - Summary: 174 words | Full Text: 1433 words\n",
      "✅ Zero waste - Summary: 216 words | Full Text: 4017 words\n",
      "✅ Extended producer responsibility - Summary: 133 words | Full Text: 3704 words\n",
      "✅ Circular economy - Summary: 411 words | Full Text: 14030 words\n",
      "✅ Industrial waste - Summary: 154 words | Full Text: 1718 words\n",
      "✅ Agricultural waste - Summary: 123 words | Full Text: 1267 words\n",
      "⚠️ Page 'Textile waste' not found! Skipping...\n",
      "✅ Battery recycling - Summary: 88 words | Full Text: 4008 words\n",
      "✅ Scrap metal - Summary: 116 words | Full Text: 2180 words\n",
      "✅ Glass recycling - Summary: 295 words | Full Text: 3054 words\n",
      "✅ Paper recycling - Summary: 240 words | Full Text: 1589 words\n",
      "✅ Plastic recycling - Summary: 387 words | Full Text: 4564 words\n",
      "✅ Biodegradable waste - Summary: 215 words | Full Text: 482 words\n",
      "✅ Waste collection - Summary: 55 words | Full Text: 505 words\n",
      "✅ Illegal dumping - Summary: 56 words | Full Text: 2347 words\n",
      "✅ Waste sorting - Summary: 169 words | Full Text: 741 words\n",
      "✅ Materials recovery facility - Summary: 88 words | Full Text: 1123 words\n",
      "✅ Municipal solid waste - Summary: 110 words | Full Text: 1380 words\n",
      "✅ Landfill gas - Summary: 184 words | Full Text: 1086 words\n",
      "✅ Microplastics - Summary: 406 words | Full Text: 9586 words\n",
      "✅ Waste legislation - Summary: 117 words | Full Text: 1998 words\n",
      "✅ Waste reduction - Summary: 289 words | Full Text: 1869 words\n",
      "⚠️ Page 'Eco-friendly packaging' not found! Skipping...\n",
      "⚠️ Page 'Recycling contamination' not found! Skipping...\n",
      "⚠️ Page 'Biohazard waste' not found! Skipping...\n",
      "✅ Garbage truck - Summary: 104 words | Full Text: 2400 words\n",
      "⚠️ Page 'Waste disposal site' not found! Skipping...\n",
      "✅ Sanitary landfill - Summary: 130 words | Full Text: 2461 words\n",
      "⚠️ Page 'Tipping fees' not found! Skipping...\n",
      "✅ Littering - Summary: 156 words | Full Text: 2648 words\n",
      "✅ Upcycling - Summary: 36 words | Full Text: 3037 words\n",
      "✅ Downcycling - Summary: 87 words | Full Text: 636 words\n",
      "⚠️ Page 'Single-use plastics' not found! Skipping...\n",
      "✅ Wastewater treatment - Summary: 269 words | Full Text: 922 words\n",
      "✅ Leachate - Summary: 113 words | Full Text: 3537 words\n",
      "⚠️ Page 'Carbon footprint of waste' not found! Skipping...\n"
     ]
    }
   ],
   "source": [
    "results = {}\n",
    "for topic in topics:\n",
    "    time.sleep(1)  # Add a delay to prevent request blocking\n",
    "    data = fetch_wikipedia_data(topic)\n",
    "    if data:\n",
    "        results[topic] = data\n",
    "\n",
    "# Save as JSON\n",
    "with open(\"wikipedia_waste_management_data.json\", \"w\", encoding=\"utf-8\") as json_file:\n",
    "    json.dump(results, json_file, ensure_ascii=False, indent=4)"
   ]
  },
  {
   "cell_type": "code",
   "execution_count": 7,
   "metadata": {},
   "outputs": [
    {
     "name": "stdout",
     "output_type": "stream",
     "text": [
      "✅ Wikipedia data saved: wikipedia_waste_management_data.json and wikipedia_waste_management_data.txt\n"
     ]
    }
   ],
   "source": [
    "with open(\"wikipedia_waste_management_data.txt\", \"w\", encoding=\"utf-8\") as txt_file:\n",
    "    for title, content in results.items():\n",
    "        txt_file.write(f\"### {title} ###\\n{content['full_text']}\\n\\n\")\n",
    "\n",
    "print(\"✅ Wikipedia data saved: wikipedia_waste_management_data.json and wikipedia_waste_management_data.txt\")"
   ]
  },
  {
   "cell_type": "code",
   "execution_count": null,
   "metadata": {},
   "outputs": [],
   "source": []
  }
 ],
 "metadata": {
  "kernelspec": {
   "display_name": "Python 3 (ipykernel)",
   "language": "python",
   "name": "python3"
  },
  "language_info": {
   "codemirror_mode": {
    "name": "ipython",
    "version": 3
   },
   "file_extension": ".py",
   "mimetype": "text/x-python",
   "name": "python",
   "nbconvert_exporter": "python",
   "pygments_lexer": "ipython3",
   "version": "3.12.3"
  }
 },
 "nbformat": 4,
 "nbformat_minor": 4
}
